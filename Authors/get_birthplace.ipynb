{
 "cells": [
  {
   "cell_type": "code",
   "execution_count": 1,
   "metadata": {},
   "outputs": [],
   "source": [
    "import os\n",
    "import time\n",
    "from selenium import webdriver\n",
    "from selenium.webdriver.common.keys import Keys"
   ]
  },
  {
   "cell_type": "code",
   "execution_count": 57,
   "metadata": {},
   "outputs": [],
   "source": [
    "base_path = \"\\Authors\"\n",
    "authors_files = os.listdir(base_path)"
   ]
  },
  {
   "cell_type": "code",
   "execution_count": 111,
   "metadata": {},
   "outputs": [],
   "source": [
    "driver = webdriver.Chrome()\n",
    "def get_authors_nationality(driver, author):\n",
    "    time.sleep(1)\n",
    "    try:\n",
    "        driver.get(\"https://www.google.com/\")\n",
    "        search_bar = driver.find_element_by_xpath(\"//input[@name='q']\")\n",
    "        search_bar.send_keys(author + \" wikipedia eng\" + \"\\n\")\n",
    "\n",
    "        time.sleep(2)\n",
    "\n",
    "        wikipedia_link = driver.find_element_by_xpath(\"//a[contains(@href,'en.wikipedia')]\")\n",
    "        wikipedia_link.click()\n",
    "\n",
    "        time.sleep(1)\n",
    "        \n",
    "        try:\n",
    "            birthplace = driver.find_element_by_xpath(\"//div[@class = 'birthplace']\")\n",
    "            return birthplace.text\n",
    "        \n",
    "        except:\n",
    "            birthplace = \"\"\n",
    "\n",
    "            for i in range(1,4):\n",
    "                try:\n",
    "                    birthplace += driver.find_element_by_xpath(\"//th[contains(text(), 'Born')]/following-sibling::td//a[{}]\".format(str(i))).text\n",
    "                    birthplace += \" \"\n",
    "                    return(birthplace)\n",
    "                except Exception as e:\n",
    "                    break\n",
    "\n",
    "            \n",
    "        \n",
    "    \n",
    "    except Exception as e:\n",
    "        print(e)\n",
    "        return(None)\n",
    "    "
   ]
  },
  {
   "cell_type": "code",
   "execution_count": 112,
   "metadata": {},
   "outputs": [
    {
     "name": "stdout",
     "output_type": "stream",
     "text": [
      "William Shakespeare Stratford-upon-Avon, Warwickshire, England\n",
      "Miguel de Cervantes Saavedra Alcalá de Henares \n",
      "John Milton Cheapside \n",
      "Blaise Pascal Clermont-Ferrand,\n",
      "Auvergne, France\n",
      "Jean Baptiste Racine La Ferté-Milon \n",
      "Jean-Baptiste Poquelin Moliere Paris \n",
      "John Bunyan Elstow \n",
      "Mary Wollstonecraft Spitalfields \n",
      "Jean Jacques Rousseau Geneva, Republic of Geneva\n",
      "Immanuel Kant Königsberg, Kingdom of Prussia\n",
      "(present-day Kaliningrad, Russia)\n",
      "Jonathan Swift Dublin \n",
      "Pierre Choderlos de Laclos Amiens \n",
      "Daniel Defoe None\n",
      "William Blake Soho \n",
      "Edward Gibbon Putney \n",
      "Henry Fielding None\n",
      "Laurence Sterne Clonmel \n",
      "Samuel Taylor Coleridge None\n",
      "J.W. von Goethe None\n",
      "Voltaire Paris \n",
      "Alice Gerstenberg None\n",
      "Leo Tolstoy Yasnaya Polyana \n",
      "Fyodor Dostoevsky None\n",
      "Bram Stoker Clontarf, Dublin \n",
      "Jane Austen None\n",
      "Mary Wollstonecraft (Godwin) Shelley None\n",
      "Charlotte Bronte None\n",
      "Victor Hugo Besançon \n",
      "Louisa May Alcott None\n",
      "Mark Twain Florida, Missouri \n",
      "Alexandre Dumas None\n",
      "Oscar Wilde Dublin \n",
      "Emily Bronte None\n",
      "Kahlil Gibran Bsharri, Mount Lebanon Mutasarrifate, Ottoman Syria\n",
      "Willa Sibert Cather None\n",
      "Beatrix Potter Kensington \n",
      "Margery Williams None\n",
      "Franz Kafka Prague, Bohemia, Crown of Bohemia, Austria-Hungary\n",
      "(now Czech Republic)\n",
      "O. Henry None\n",
      "Marcel Proust Auteuil, France\n",
      "George Bernard Shaw None\n",
      "Herman Hesse Calw \n",
      "Jack London None\n",
      "Edith Wharton New York City \n",
      "Gaston Leroux None\n"
     ]
    }
   ],
   "source": [
    "output_list = []\n",
    "for authors in authors_files:\n",
    "    authors_names = base_path + \"\\{}\".format(authors)\n",
    "    century = authors.split(\".\")[0].split(\"_\")[1]\n",
    "    with open(authors_names, \"r\") as f:\n",
    "        authors_list = f.readlines()\n",
    "        authors_list = [x.strip() for x in authors_list[0].split(\",\")]\n",
    "    \n",
    "    for author in authors_list:\n",
    "        birthplace = get_authors_nationality(driver, author)\n",
    "        print(author, birthplace)\n",
    "        output_list.append((century, author, birthplace))"
   ]
  },
  {
   "cell_type": "code",
   "execution_count": 114,
   "metadata": {},
   "outputs": [],
   "source": [
    "pd.DataFrame(output_list, columns = [\"Century\", \"Author\", \"Birthplace\"]).to_excel(\"Birthplace.xlsx\", index = False)"
   ]
  },
  {
   "cell_type": "code",
   "execution_count": null,
   "metadata": {},
   "outputs": [],
   "source": []
  }
 ],
 "metadata": {
  "kernelspec": {
   "display_name": "Python 3",
   "language": "python",
   "name": "python3"
  },
  "language_info": {
   "codemirror_mode": {
    "name": "ipython",
    "version": 3
   },
   "file_extension": ".py",
   "mimetype": "text/x-python",
   "name": "python",
   "nbconvert_exporter": "python",
   "pygments_lexer": "ipython3",
   "version": "3.7.3"
  }
 },
 "nbformat": 4,
 "nbformat_minor": 2
}
