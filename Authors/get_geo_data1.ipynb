{
 "cells": [
  {
   "cell_type": "code",
   "execution_count": 3,
   "metadata": {},
   "outputs": [],
   "source": [
    "import requests\n",
    "import pandas as pd\n",
    "import time"
   ]
  },
  {
   "cell_type": "code",
   "execution_count": 4,
   "metadata": {},
   "outputs": [],
   "source": [
    "headers = {\n",
    "    \"User-Agent\": \"\",\n",
    "    \"email\": \"\"\n",
    "}"
   ]
  },
  {
   "cell_type": "code",
   "execution_count": 32,
   "metadata": {},
   "outputs": [],
   "source": [
    "def get_province(location_data):\n",
    "    print(location_data)\n",
    "    time.sleep(0.5)\n",
    "    try:\n",
    "        global headers\n",
    "        request = \"https://nominatim.openstreetmap.org/search?q={}&limit=1&format=json&polygon=1&addressdetails=1\".format(location_data)\n",
    "        data = requests.get(request, headers = headers)\n",
    "\n",
    "        data = data.json()\n",
    "        return (data[0][\"lat\"], data[0][\"lon\"])\n",
    "    except Exception as e:\n",
    "        return None"
   ]
  },
  {
   "cell_type": "code",
   "execution_count": 35,
   "metadata": {},
   "outputs": [],
   "source": [
    "df = pd.read_excel(\"Birthplace.xlsx\")"
   ]
  },
  {
   "cell_type": "code",
   "execution_count": 36,
   "metadata": {
    "scrolled": true
   },
   "outputs": [
    {
     "name": "stdout",
     "output_type": "stream",
     "text": [
      "Stratford-upon-Avon, Warwickshire, England\n",
      "Alcalá de Henares \n",
      "Cheapside \n",
      "Clermont-Ferrand,\n",
      "Auvergne, France\n",
      "La Ferté-Milon \n",
      "Paris \n",
      "Elstow \n",
      "Spitalfields \n",
      "Geneva, Republic of Geneva\n",
      "Kaliningrad, Russia\n",
      "Dublin \n",
      "Amiens \n",
      "London, England\n",
      "London, England\n",
      "Putney \n",
      "Sharpham, Somerset, England\n",
      "Clonmel \n",
      "Ottery St Mary\n",
      "Frankfurt\n",
      "Paris \n",
      "Chicago, Illinois\n",
      "Yasnaya Polyana \n",
      "Moscow\n",
      "Clontarf, Dublin \n",
      "Hampshire, England\n",
      "London, England\n",
      "Thornton, England\n",
      "Besançon \n",
      "Germantown, Pennsylvania\n",
      "Florida, Missouri \n",
      "Villers-Cotterêts, Aisne\n",
      "Dublin \n",
      "Thornton, England\n",
      "Bsharri, Syria\n",
      "Gore, Virginia\n",
      "Kensington \n",
      "London, England\n",
      "Prague\n",
      "Greensboro, North Carolina,\n",
      "Auteuil, France\n",
      "Dublin \n",
      "Calw \n",
      "San Francisco, California\n",
      "New York City \n",
      "Paris \n"
     ]
    }
   ],
   "source": [
    "df[\"geo_data\"] = df[\"Birthplace\"].apply(lambda birthplace: get_province(birthplace))"
   ]
  },
  {
   "cell_type": "code",
   "execution_count": 38,
   "metadata": {},
   "outputs": [],
   "source": [
    "df.to_excel(\"Birthplace_with_geo_data.xlsx\", index = False)"
   ]
  },
  {
   "cell_type": "code",
   "execution_count": null,
   "metadata": {},
   "outputs": [],
   "source": []
  }
 ],
 "metadata": {
  "kernelspec": {
   "display_name": "Python 3",
   "language": "python",
   "name": "python3"
  },
  "language_info": {
   "codemirror_mode": {
    "name": "ipython",
    "version": 3
   },
   "file_extension": ".py",
   "mimetype": "text/x-python",
   "name": "python",
   "nbconvert_exporter": "python",
   "pygments_lexer": "ipython3",
   "version": "3.7.3"
  }
 },
 "nbformat": 4,
 "nbformat_minor": 2
}
